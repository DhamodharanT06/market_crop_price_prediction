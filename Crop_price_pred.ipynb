{
 "cells": [
  {
   "cell_type": "code",
   "execution_count": 33,
   "metadata": {},
   "outputs": [],
   "source": [
    "import pandas as pd\n",
    "import numpy as np \n",
    "import matplotlib.pyplot as plt \n",
    "from sklearn.model_selection import train_test_split as tts \n",
    "from sklearn.ensemble import RandomForestRegressor as rfc \n",
    "import sklearn.metrics as met"
   ]
  },
  {
   "cell_type": "code",
   "execution_count": 34,
   "metadata": {},
   "outputs": [],
   "source": [
    "cpp = pd.read_csv(r\"C:\\Users\\dhamo\\OneDrive\\Documents\\Internships\\Nitroware\\Crop Price Dataset.csv\")"
   ]
  },
  {
   "cell_type": "code",
   "execution_count": 35,
   "metadata": {},
   "outputs": [
    {
     "data": {
      "text/html": [
       "<div>\n",
       "<style scoped>\n",
       "    .dataframe tbody tr th:only-of-type {\n",
       "        vertical-align: middle;\n",
       "    }\n",
       "\n",
       "    .dataframe tbody tr th {\n",
       "        vertical-align: top;\n",
       "    }\n",
       "\n",
       "    .dataframe thead th {\n",
       "        text-align: right;\n",
       "    }\n",
       "</style>\n",
       "<table border=\"1\" class=\"dataframe\">\n",
       "  <thead>\n",
       "    <tr style=\"text-align: right;\">\n",
       "      <th></th>\n",
       "      <th>State</th>\n",
       "      <th>Crop</th>\n",
       "      <th>CostCultivation</th>\n",
       "      <th>CostCultivation2</th>\n",
       "      <th>Production</th>\n",
       "      <th>Yield</th>\n",
       "      <th>Temperature</th>\n",
       "      <th>RainFall Annual</th>\n",
       "      <th>Price</th>\n",
       "    </tr>\n",
       "  </thead>\n",
       "  <tbody>\n",
       "    <tr>\n",
       "      <th>0</th>\n",
       "      <td>Uttar Pradesh</td>\n",
       "      <td>ARHAR</td>\n",
       "      <td>9794.05</td>\n",
       "      <td>9800.25</td>\n",
       "      <td>1941.55</td>\n",
       "      <td>9.83</td>\n",
       "      <td>28.96</td>\n",
       "      <td>3373.2</td>\n",
       "      <td>19589.10</td>\n",
       "    </tr>\n",
       "    <tr>\n",
       "      <th>1</th>\n",
       "      <td>Karnataka</td>\n",
       "      <td>ARHAR</td>\n",
       "      <td>10593.15</td>\n",
       "      <td>10594.15</td>\n",
       "      <td>2172.46</td>\n",
       "      <td>7.47</td>\n",
       "      <td>29.22</td>\n",
       "      <td>3520.7</td>\n",
       "      <td>21187.30</td>\n",
       "    </tr>\n",
       "    <tr>\n",
       "      <th>2</th>\n",
       "      <td>Gujarat</td>\n",
       "      <td>ARHAR</td>\n",
       "      <td>13468.82</td>\n",
       "      <td>13469.82</td>\n",
       "      <td>1898.30</td>\n",
       "      <td>9.59</td>\n",
       "      <td>28.47</td>\n",
       "      <td>2957.4</td>\n",
       "      <td>26938.64</td>\n",
       "    </tr>\n",
       "    <tr>\n",
       "      <th>3</th>\n",
       "      <td>Andhra Pradesh</td>\n",
       "      <td>ARHAR</td>\n",
       "      <td>17051.66</td>\n",
       "      <td>17052.66</td>\n",
       "      <td>3670.54</td>\n",
       "      <td>6.42</td>\n",
       "      <td>28.49</td>\n",
       "      <td>3079.6</td>\n",
       "      <td>34104.32</td>\n",
       "    </tr>\n",
       "    <tr>\n",
       "      <th>4</th>\n",
       "      <td>Maharashtra</td>\n",
       "      <td>ARHAR</td>\n",
       "      <td>17130.55</td>\n",
       "      <td>17131.55</td>\n",
       "      <td>2775.80</td>\n",
       "      <td>8.72</td>\n",
       "      <td>28.30</td>\n",
       "      <td>2566.7</td>\n",
       "      <td>34262.10</td>\n",
       "    </tr>\n",
       "  </tbody>\n",
       "</table>\n",
       "</div>"
      ],
      "text/plain": [
       "            State   Crop  CostCultivation  CostCultivation2  Production  \\\n",
       "0   Uttar Pradesh  ARHAR          9794.05           9800.25     1941.55   \n",
       "1       Karnataka  ARHAR         10593.15          10594.15     2172.46   \n",
       "2         Gujarat  ARHAR         13468.82          13469.82     1898.30   \n",
       "3  Andhra Pradesh  ARHAR         17051.66          17052.66     3670.54   \n",
       "4     Maharashtra  ARHAR         17130.55          17131.55     2775.80   \n",
       "\n",
       "   Yield  Temperature  RainFall Annual     Price  \n",
       "0   9.83        28.96           3373.2  19589.10  \n",
       "1   7.47        29.22           3520.7  21187.30  \n",
       "2   9.59        28.47           2957.4  26938.64  \n",
       "3   6.42        28.49           3079.6  34104.32  \n",
       "4   8.72        28.30           2566.7  34262.10  "
      ]
     },
     "execution_count": 35,
     "metadata": {},
     "output_type": "execute_result"
    }
   ],
   "source": [
    "cpp.head()"
   ]
  },
  {
   "cell_type": "code",
   "execution_count": 36,
   "metadata": {},
   "outputs": [
    {
     "data": {
      "text/plain": [
       "(49, 9)"
      ]
     },
     "execution_count": 36,
     "metadata": {},
     "output_type": "execute_result"
    }
   ],
   "source": [
    "cpp.shape"
   ]
  },
  {
   "cell_type": "code",
   "execution_count": 37,
   "metadata": {},
   "outputs": [
    {
     "name": "stdout",
     "output_type": "stream",
     "text": [
      "<class 'pandas.core.frame.DataFrame'>\n",
      "RangeIndex: 49 entries, 0 to 48\n",
      "Data columns (total 9 columns):\n",
      " #   Column            Non-Null Count  Dtype  \n",
      "---  ------            --------------  -----  \n",
      " 0   State             49 non-null     object \n",
      " 1   Crop              49 non-null     object \n",
      " 2   CostCultivation   49 non-null     float64\n",
      " 3   CostCultivation2  49 non-null     float64\n",
      " 4   Production        49 non-null     float64\n",
      " 5   Yield             49 non-null     float64\n",
      " 6   Temperature       49 non-null     float64\n",
      " 7   RainFall Annual   49 non-null     float64\n",
      " 8   Price             49 non-null     float64\n",
      "dtypes: float64(7), object(2)\n",
      "memory usage: 3.6+ KB\n"
     ]
    }
   ],
   "source": [
    "cpp.info()"
   ]
  },
  {
   "cell_type": "markdown",
   "metadata": {},
   "source": [
    "Crop name preprocessing"
   ]
  },
  {
   "cell_type": "code",
   "execution_count": 38,
   "metadata": {},
   "outputs": [
    {
     "data": {
      "text/plain": [
       "Crop\n",
       "ARHAR        5\n",
       "COTTON       5\n",
       "GRAM         5\n",
       "GROUNDNUT    5\n",
       "MAIZE        5\n",
       "MOONG        5\n",
       "PADDY        5\n",
       " MUSTARD     5\n",
       "SUGARCANE    5\n",
       "WHEAT        4\n",
       "Name: count, dtype: int64"
      ]
     },
     "execution_count": 38,
     "metadata": {},
     "output_type": "execute_result"
    }
   ],
   "source": [
    "cpp.Crop.value_counts()"
   ]
  },
  {
   "cell_type": "code",
   "execution_count": 39,
   "metadata": {},
   "outputs": [
    {
     "name": "stderr",
     "output_type": "stream",
     "text": [
      "C:\\Users\\dhamo\\AppData\\Local\\Temp\\ipykernel_13820\\3524118126.py:1: FutureWarning: A value is trying to be set on a copy of a DataFrame or Series through chained assignment using an inplace method.\n",
      "The behavior will change in pandas 3.0. This inplace method will never work because the intermediate object on which we are setting values always behaves as a copy.\n",
      "\n",
      "For example, when doing 'df[col].method(value, inplace=True)', try using 'df.method({col: value}, inplace=True)' or df[col] = df[col].method(value) instead, to perform the operation inplace on the original object.\n",
      "\n",
      "\n",
      "  cpp.Crop.replace(to_replace=[' MUSTARD'],value=['MUSTARD'],inplace=True)\n"
     ]
    }
   ],
   "source": [
    "cpp.Crop.replace(to_replace=[' MUSTARD'],value=['MUSTARD'],inplace=True)"
   ]
  },
  {
   "cell_type": "code",
   "execution_count": 40,
   "metadata": {},
   "outputs": [
    {
     "data": {
      "text/plain": [
       "{'ARHAR': 0,\n",
       " 'COTTON': 5,\n",
       " 'GRAM': 10,\n",
       " 'GROUNDNUT': 15,\n",
       " 'MAIZE': 20,\n",
       " 'MOONG': 25,\n",
       " 'MUSTARD': 35,\n",
       " 'PADDY': 30,\n",
       " 'SUGARCANE': 40,\n",
       " 'WHEAT': 45}"
      ]
     },
     "execution_count": 40,
     "metadata": {},
     "output_type": "execute_result"
    }
   ],
   "source": [
    "crop_name = {}\n",
    "c = np.array(cpp.Crop)\n",
    "va , ind, co  = np.unique(c,return_counts=True,return_index=True)\n",
    "   \n",
    "for i in range(len(ind)):\n",
    "    crop_name[va[i]] = ind[i]\n",
    "crop_name"
   ]
  },
  {
   "cell_type": "markdown",
   "metadata": {},
   "source": [
    "State preprocessing"
   ]
  },
  {
   "cell_type": "code",
   "execution_count": 41,
   "metadata": {},
   "outputs": [
    {
     "data": {
      "text/plain": [
       "State\n",
       "Andhra Pradesh    8\n",
       "Uttar Pradesh     7\n",
       "Maharashtra       6\n",
       "Karnataka         5\n",
       "Rajasthan         5\n",
       "Gujarat           4\n",
       "Punjab            3\n",
       "Madhya Pradesh    3\n",
       "Haryana           2\n",
       "Tamil Nadu        2\n",
       "Orissa            2\n",
       "Bihar             1\n",
       "West Bengal       1\n",
       "Name: count, dtype: int64"
      ]
     },
     "execution_count": 41,
     "metadata": {},
     "output_type": "execute_result"
    }
   ],
   "source": [
    "cpp.State.value_counts()"
   ]
  },
  {
   "cell_type": "code",
   "execution_count": 42,
   "metadata": {},
   "outputs": [
    {
     "data": {
      "text/plain": [
       "{'Andhra Pradesh': 0,\n",
       " 'Bihar': 1,\n",
       " 'Gujarat': 2,\n",
       " 'Haryana': 3,\n",
       " 'Karnataka': 4,\n",
       " 'Madhya Pradesh': 5,\n",
       " 'Maharashtra': 6,\n",
       " 'Orissa': 7,\n",
       " 'Punjab': 8,\n",
       " 'Rajasthan': 9,\n",
       " 'Tamil Nadu': 10,\n",
       " 'Uttar Pradesh': 11,\n",
       " 'West Bengal': 12}"
      ]
     },
     "execution_count": 42,
     "metadata": {},
     "output_type": "execute_result"
    }
   ],
   "source": [
    "s = np.array(cpp.State)\n",
    "s_n , s_c = np.unique(s,return_counts=True)\n",
    "state_name = dict()\n",
    "s_i = []\n",
    "for i in range(len(s_c)):\n",
    "    s_i.append(i)\n",
    "    state_name[s_n[i]] = i\n",
    "state_name\n"
   ]
  },
  {
   "cell_type": "markdown",
   "metadata": {},
   "source": [
    "Model : Splitting Data"
   ]
  },
  {
   "cell_type": "code",
   "execution_count": 43,
   "metadata": {},
   "outputs": [],
   "source": [
    "x = cpp.iloc[:,:-1]\n",
    "y = cpp.iloc[:,-1]\n"
   ]
  },
  {
   "cell_type": "code",
   "execution_count": 44,
   "metadata": {},
   "outputs": [
    {
     "name": "stderr",
     "output_type": "stream",
     "text": [
      "C:\\Users\\dhamo\\AppData\\Local\\Temp\\ipykernel_13820\\3012271339.py:1: FutureWarning: A value is trying to be set on a copy of a DataFrame or Series through chained assignment using an inplace method.\n",
      "The behavior will change in pandas 3.0. This inplace method will never work because the intermediate object on which we are setting values always behaves as a copy.\n",
      "\n",
      "For example, when doing 'df[col].method(value, inplace=True)', try using 'df.method({col: value}, inplace=True)' or df[col] = df[col].method(value) instead, to perform the operation inplace on the original object.\n",
      "\n",
      "\n",
      "  x.Crop.replace(to_replace=va,value=ind,inplace=True)\n",
      "C:\\Users\\dhamo\\AppData\\Local\\Temp\\ipykernel_13820\\3012271339.py:1: FutureWarning: Downcasting behavior in `replace` is deprecated and will be removed in a future version. To retain the old behavior, explicitly call `result.infer_objects(copy=False)`. To opt-in to the future behavior, set `pd.set_option('future.no_silent_downcasting', True)`\n",
      "  x.Crop.replace(to_replace=va,value=ind,inplace=True)\n",
      "C:\\Users\\dhamo\\AppData\\Local\\Temp\\ipykernel_13820\\3012271339.py:2: FutureWarning: A value is trying to be set on a copy of a DataFrame or Series through chained assignment using an inplace method.\n",
      "The behavior will change in pandas 3.0. This inplace method will never work because the intermediate object on which we are setting values always behaves as a copy.\n",
      "\n",
      "For example, when doing 'df[col].method(value, inplace=True)', try using 'df.method({col: value}, inplace=True)' or df[col] = df[col].method(value) instead, to perform the operation inplace on the original object.\n",
      "\n",
      "\n",
      "  x.State.replace(to_replace=s_n , value=s_i , inplace = True)\n",
      "C:\\Users\\dhamo\\AppData\\Local\\Temp\\ipykernel_13820\\3012271339.py:2: FutureWarning: Downcasting behavior in `replace` is deprecated and will be removed in a future version. To retain the old behavior, explicitly call `result.infer_objects(copy=False)`. To opt-in to the future behavior, set `pd.set_option('future.no_silent_downcasting', True)`\n",
      "  x.State.replace(to_replace=s_n , value=s_i , inplace = True)\n"
     ]
    }
   ],
   "source": [
    "x.Crop.replace(to_replace=va,value=ind,inplace=True)\n",
    "x.State.replace(to_replace=s_n , value=s_i , inplace = True)"
   ]
  },
  {
   "cell_type": "code",
   "execution_count": 45,
   "metadata": {},
   "outputs": [
    {
     "data": {
      "text/html": [
       "<div>\n",
       "<style scoped>\n",
       "    .dataframe tbody tr th:only-of-type {\n",
       "        vertical-align: middle;\n",
       "    }\n",
       "\n",
       "    .dataframe tbody tr th {\n",
       "        vertical-align: top;\n",
       "    }\n",
       "\n",
       "    .dataframe thead th {\n",
       "        text-align: right;\n",
       "    }\n",
       "</style>\n",
       "<table border=\"1\" class=\"dataframe\">\n",
       "  <thead>\n",
       "    <tr style=\"text-align: right;\">\n",
       "      <th></th>\n",
       "      <th>State</th>\n",
       "      <th>Crop</th>\n",
       "      <th>CostCultivation</th>\n",
       "      <th>CostCultivation2</th>\n",
       "      <th>Production</th>\n",
       "      <th>Yield</th>\n",
       "      <th>Temperature</th>\n",
       "      <th>RainFall Annual</th>\n",
       "    </tr>\n",
       "  </thead>\n",
       "  <tbody>\n",
       "    <tr>\n",
       "      <th>0</th>\n",
       "      <td>11</td>\n",
       "      <td>0</td>\n",
       "      <td>9794.05</td>\n",
       "      <td>9800.25</td>\n",
       "      <td>1941.55</td>\n",
       "      <td>9.83</td>\n",
       "      <td>28.96</td>\n",
       "      <td>3373.2</td>\n",
       "    </tr>\n",
       "    <tr>\n",
       "      <th>1</th>\n",
       "      <td>4</td>\n",
       "      <td>0</td>\n",
       "      <td>10593.15</td>\n",
       "      <td>10594.15</td>\n",
       "      <td>2172.46</td>\n",
       "      <td>7.47</td>\n",
       "      <td>29.22</td>\n",
       "      <td>3520.7</td>\n",
       "    </tr>\n",
       "    <tr>\n",
       "      <th>2</th>\n",
       "      <td>2</td>\n",
       "      <td>0</td>\n",
       "      <td>13468.82</td>\n",
       "      <td>13469.82</td>\n",
       "      <td>1898.30</td>\n",
       "      <td>9.59</td>\n",
       "      <td>28.47</td>\n",
       "      <td>2957.4</td>\n",
       "    </tr>\n",
       "    <tr>\n",
       "      <th>3</th>\n",
       "      <td>0</td>\n",
       "      <td>0</td>\n",
       "      <td>17051.66</td>\n",
       "      <td>17052.66</td>\n",
       "      <td>3670.54</td>\n",
       "      <td>6.42</td>\n",
       "      <td>28.49</td>\n",
       "      <td>3079.6</td>\n",
       "    </tr>\n",
       "    <tr>\n",
       "      <th>4</th>\n",
       "      <td>6</td>\n",
       "      <td>0</td>\n",
       "      <td>17130.55</td>\n",
       "      <td>17131.55</td>\n",
       "      <td>2775.80</td>\n",
       "      <td>8.72</td>\n",
       "      <td>28.30</td>\n",
       "      <td>2566.7</td>\n",
       "    </tr>\n",
       "  </tbody>\n",
       "</table>\n",
       "</div>"
      ],
      "text/plain": [
       "   State  Crop  CostCultivation  CostCultivation2  Production  Yield  \\\n",
       "0     11     0          9794.05           9800.25     1941.55   9.83   \n",
       "1      4     0         10593.15          10594.15     2172.46   7.47   \n",
       "2      2     0         13468.82          13469.82     1898.30   9.59   \n",
       "3      0     0         17051.66          17052.66     3670.54   6.42   \n",
       "4      6     0         17130.55          17131.55     2775.80   8.72   \n",
       "\n",
       "   Temperature  RainFall Annual  \n",
       "0        28.96           3373.2  \n",
       "1        29.22           3520.7  \n",
       "2        28.47           2957.4  \n",
       "3        28.49           3079.6  \n",
       "4        28.30           2566.7  "
      ]
     },
     "execution_count": 45,
     "metadata": {},
     "output_type": "execute_result"
    }
   ],
   "source": [
    "x.head()"
   ]
  },
  {
   "cell_type": "code",
   "execution_count": 46,
   "metadata": {},
   "outputs": [
    {
     "data": {
      "text/plain": [
       "0    19589.10\n",
       "1    21187.30\n",
       "2    26938.64\n",
       "3    34104.32\n",
       "4    34262.10\n",
       "Name: Price, dtype: float64"
      ]
     },
     "execution_count": 46,
     "metadata": {},
     "output_type": "execute_result"
    }
   ],
   "source": [
    "y.head()"
   ]
  },
  {
   "cell_type": "code",
   "execution_count": 47,
   "metadata": {},
   "outputs": [
    {
     "data": {
      "text/plain": [
       "((49, 8), (49,))"
      ]
     },
     "execution_count": 47,
     "metadata": {},
     "output_type": "execute_result"
    }
   ],
   "source": [
    "x.shape , y.shape"
   ]
  },
  {
   "cell_type": "code",
   "execution_count": 48,
   "metadata": {},
   "outputs": [],
   "source": [
    "xtr , xts , ytr , yts = tts(x,y,test_size = 0.2 , random_state=42)\n"
   ]
  },
  {
   "cell_type": "markdown",
   "metadata": {},
   "source": [
    "Model : Random Forest"
   ]
  },
  {
   "cell_type": "code",
   "execution_count": 49,
   "metadata": {},
   "outputs": [
    {
     "name": "stdout",
     "output_type": "stream",
     "text": [
      "0.952587056837303\n"
     ]
    }
   ],
   "source": [
    "rf = rfc(n_estimators=100)\n",
    "rf.fit(xtr,ytr)\n",
    "pred = rf.predict(xts)\n",
    "print(met.r2_score(yts,pred))"
   ]
  },
  {
   "cell_type": "code",
   "execution_count": 50,
   "metadata": {},
   "outputs": [
    {
     "data": {
      "image/png": "[encoded data removed]",
      "text/plain": [
       "<Figure size 640x480 with 1 Axes>"
      ]
     },
     "metadata": {},
     "output_type": "display_data"
    }
   ],
   "source": [
    "plt.scatter(yts,pred)\n",
    "plt.xlabel(\"Actual\")\n",
    "plt.ylabel(\"Predicted\")\n",
    "plt.title(\"Crop Price\")\n",
    "plt.show()"
   ]
  },
  {
   "cell_type": "code",
   "execution_count": 51,
   "metadata": {},
   "outputs": [
    {
     "data": {
      "text/plain": [
       "Index(['State', 'Crop', 'CostCultivation', 'CostCultivation2', 'Production',\n",
       "       'Yield', 'Temperature', 'RainFall Annual', 'Price'],\n",
       "      dtype='object')"
      ]
     },
     "execution_count": 51,
     "metadata": {},
     "output_type": "execute_result"
    }
   ],
   "source": [
    "cpp.columns"
   ]
  },
  {
   "cell_type": "code",
   "execution_count": 52,
   "metadata": {},
   "outputs": [
    {
     "data": {
      "text/plain": [
       "State                 11.00\n",
       "Crop                   0.00\n",
       "CostCultivation     9794.05\n",
       "CostCultivation2    9800.25\n",
       "Production          1941.55\n",
       "Yield                  9.83\n",
       "Temperature           28.96\n",
       "RainFall Annual     3373.20\n",
       "Name: 0, dtype: float64"
      ]
     },
     "execution_count": 52,
     "metadata": {},
     "output_type": "execute_result"
    }
   ],
   "source": [
    "x.iloc[0]"
   ]
  },
  {
   "cell_type": "code",
   "execution_count": 53,
   "metadata": {},
   "outputs": [
    {
     "data": {
      "text/plain": [
       "State                 int64\n",
       "Crop                  int64\n",
       "CostCultivation     float64\n",
       "CostCultivation2    float64\n",
       "Production          float64\n",
       "Yield               float64\n",
       "Temperature         float64\n",
       "RainFall Annual     float64\n",
       "dtype: object"
      ]
     },
     "execution_count": 53,
     "metadata": {},
     "output_type": "execute_result"
    }
   ],
   "source": [
    "x.dtypes"
   ]
  },
  {
   "cell_type": "code",
   "execution_count": 54,
   "metadata": {},
   "outputs": [
    {
     "data": {
      "text/plain": [
       "Crop\n",
       "ARHAR        13607.646\n",
       "COTTON       28286.874\n",
       "GRAM         11719.510\n",
       "GROUNDNUT    21282.782\n",
       "MAIZE        16610.150\n",
       "MOONG         7118.670\n",
       "MUSTARD      12260.490\n",
       "PADDY        22810.140\n",
       "SUGARCANE    52164.716\n",
       "WHEAT        17127.110\n",
       "Name: CostCultivation, dtype: float64"
      ]
     },
     "execution_count": 54,
     "metadata": {},
     "output_type": "execute_result"
    }
   ],
   "source": [
    "avg_price1 = cpp.groupby(\"Crop\")['CostCultivation'].mean()\n",
    "avg_price1"
   ]
  },
  {
   "cell_type": "code",
   "execution_count": 55,
   "metadata": {},
   "outputs": [
    {
     "data": {
      "text/plain": [
       "Crop\n",
       "ARHAR        13609.686\n",
       "COTTON       28287.874\n",
       "GRAM         11720.510\n",
       "GROUNDNUT    21283.782\n",
       "MAIZE        16611.150\n",
       "MOONG         7119.670\n",
       "MUSTARD      12261.490\n",
       "PADDY        22811.140\n",
       "SUGARCANE    52165.716\n",
       "WHEAT        17128.110\n",
       "Name: CostCultivation2, dtype: float64"
      ]
     },
     "execution_count": 55,
     "metadata": {},
     "output_type": "execute_result"
    }
   ],
   "source": [
    "avg_price2 = cpp.groupby(\"Crop\")['CostCultivation2'].mean()\n",
    "avg_price2"
   ]
  },
  {
   "cell_type": "code",
   "execution_count": 56,
   "metadata": {},
   "outputs": [],
   "source": [
    "import pickle as pk\n",
    "mod = {\n",
    "    \"rf\" : rf,\n",
    "    \"avg_price1\" : avg_price1,\n",
    "    \"avg_price2\" : avg_price2\n",
    "}\n",
    "with open('Crop_price_pred_pick.pkl', 'wb') as f:\n",
    "    pk.dump(mod, f)"
   ]
  }
 ],
 "metadata": {
  "kernelspec": {
   "display_name": "base",
   "language": "python",
   "name": "python3"
  },
  "language_info": {
   "codemirror_mode": {
    "name": "ipython",
    "version": 3
   },
   "file_extension": ".py",
   "mimetype": "text/x-python",
   "name": "python",
   "nbconvert_exporter": "python",
   "pygments_lexer": "ipython3",
   "version": "3.12.7"
  }
 },
 "nbformat": 4,
 "nbformat_minor": 2
}
